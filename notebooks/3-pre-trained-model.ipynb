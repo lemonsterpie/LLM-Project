{
 "cells": [
  {
   "cell_type": "code",
   "execution_count": 1,
   "metadata": {},
   "outputs": [],
   "source": [
    "from transformers import pipeline\n",
    "import pandas as pd "
   ]
  },
  {
   "cell_type": "code",
   "execution_count": 2,
   "metadata": {},
   "outputs": [],
   "source": [
    "data = pd.read_csv('../data/data_preprocessed.csv')"
   ]
  },
  {
   "cell_type": "markdown",
   "metadata": {},
   "source": [
    "I will be using JamesH's pretrained model for moview review sentiment analysis. "
   ]
  },
  {
   "cell_type": "code",
   "execution_count": 3,
   "metadata": {},
   "outputs": [
    {
     "name": "stderr",
     "output_type": "stream",
     "text": [
      "Device set to use cpu\n"
     ]
    }
   ],
   "source": [
    "inputs = data['text'].tolist()\n",
    "pipe = pipeline(task='sentiment-analysis', model='JamesH/Movie_review_sentiment_analysis_model', tokenizer='JamesH/Movie_review_sentiment_analysis_model')\n",
    "preds = pipe(inputs)"
   ]
  },
  {
   "cell_type": "code",
   "execution_count": 4,
   "metadata": {},
   "outputs": [],
   "source": [
    "# Initiating the model in batches so the tokenized data does not exceed the model's max tensor length \n",
    "\n",
    "inputs = data['text'].tolist()\n",
    "\n",
    "results = []\n",
    "\n",
    "for i in range(0, len(inputs), 20):\n",
    "    batch = inputs[i:i+20]\n",
    "    batch_preds = pipe(batch)\n",
    "    results.extend(batch_preds)"
   ]
  },
  {
   "cell_type": "code",
   "execution_count": 6,
   "metadata": {},
   "outputs": [],
   "source": [
    "data['predicted_label'] = [r['label'] for r in results]\n",
    "data['score'] = [r['score'] for r in results]"
   ]
  },
  {
   "cell_type": "code",
   "execution_count": 7,
   "metadata": {},
   "outputs": [
    {
     "data": {
      "text/html": [
       "<div>\n",
       "<style scoped>\n",
       "    .dataframe tbody tr th:only-of-type {\n",
       "        vertical-align: middle;\n",
       "    }\n",
       "\n",
       "    .dataframe tbody tr th {\n",
       "        vertical-align: top;\n",
       "    }\n",
       "\n",
       "    .dataframe thead th {\n",
       "        text-align: right;\n",
       "    }\n",
       "</style>\n",
       "<table border=\"1\" class=\"dataframe\">\n",
       "  <thead>\n",
       "    <tr style=\"text-align: right;\">\n",
       "      <th></th>\n",
       "      <th>text</th>\n",
       "      <th>label</th>\n",
       "      <th>preprocessed_text</th>\n",
       "      <th>predicted_label</th>\n",
       "      <th>score</th>\n",
       "    </tr>\n",
       "  </thead>\n",
       "  <tbody>\n",
       "    <tr>\n",
       "      <th>467</th>\n",
       "      <td>As the 2000's came to a close, king Kong's ado...</td>\n",
       "      <td>0</td>\n",
       "      <td>as the 2000s came to a close  king kongs adopt...</td>\n",
       "      <td>NEG</td>\n",
       "      <td>0.522940</td>\n",
       "    </tr>\n",
       "    <tr>\n",
       "      <th>895</th>\n",
       "      <td>\"If I sit down I will never stand up again\", t...</td>\n",
       "      <td>1</td>\n",
       "      <td>if i sit down i will never stand up again   t...</td>\n",
       "      <td>POS</td>\n",
       "      <td>0.534601</td>\n",
       "    </tr>\n",
       "    <tr>\n",
       "      <th>959</th>\n",
       "      <td>...which isn't exactly a ringing endorsement. ...</td>\n",
       "      <td>0</td>\n",
       "      <td>which isnt exactly a ringing endorsement  o...</td>\n",
       "      <td>POS</td>\n",
       "      <td>0.539271</td>\n",
       "    </tr>\n",
       "    <tr>\n",
       "      <th>958</th>\n",
       "      <td>Frank Sinatra was far from the ideal actor for...</td>\n",
       "      <td>0</td>\n",
       "      <td>frank sinatra was far from the ideal actor for...</td>\n",
       "      <td>NEG</td>\n",
       "      <td>0.540881</td>\n",
       "    </tr>\n",
       "    <tr>\n",
       "      <th>114</th>\n",
       "      <td>Can any one help find out the title and artist...</td>\n",
       "      <td>1</td>\n",
       "      <td>can any one help find out the title and artist...</td>\n",
       "      <td>NEG</td>\n",
       "      <td>0.544742</td>\n",
       "    </tr>\n",
       "    <tr>\n",
       "      <th>...</th>\n",
       "      <td>...</td>\n",
       "      <td>...</td>\n",
       "      <td>...</td>\n",
       "      <td>...</td>\n",
       "      <td>...</td>\n",
       "    </tr>\n",
       "    <tr>\n",
       "      <th>54</th>\n",
       "      <td>I was very interested to see this movie when i...</td>\n",
       "      <td>1</td>\n",
       "      <td>i was very interested to see this movie when i...</td>\n",
       "      <td>POS</td>\n",
       "      <td>0.990106</td>\n",
       "    </tr>\n",
       "    <tr>\n",
       "      <th>652</th>\n",
       "      <td>-The movie tells the tale of a prince whose li...</td>\n",
       "      <td>1</td>\n",
       "      <td>the movie tells the tale of a prince whose li...</td>\n",
       "      <td>POS</td>\n",
       "      <td>0.990273</td>\n",
       "    </tr>\n",
       "    <tr>\n",
       "      <th>833</th>\n",
       "      <td>When a movie shocks you with it's disturbing, ...</td>\n",
       "      <td>1</td>\n",
       "      <td>when a movie shocks you with its disturbing  b...</td>\n",
       "      <td>POS</td>\n",
       "      <td>0.990373</td>\n",
       "    </tr>\n",
       "    <tr>\n",
       "      <th>394</th>\n",
       "      <td>I had the privilege of watching Scarface on th...</td>\n",
       "      <td>1</td>\n",
       "      <td>i had the privilege of watching scarface on th...</td>\n",
       "      <td>POS</td>\n",
       "      <td>0.990460</td>\n",
       "    </tr>\n",
       "    <tr>\n",
       "      <th>841</th>\n",
       "      <td>VIVAH in my opinion is the best movie of 2006,...</td>\n",
       "      <td>1</td>\n",
       "      <td>vivah in my opinion is the best movie of 2006 ...</td>\n",
       "      <td>POS</td>\n",
       "      <td>0.990821</td>\n",
       "    </tr>\n",
       "  </tbody>\n",
       "</table>\n",
       "<p>1000 rows × 5 columns</p>\n",
       "</div>"
      ],
      "text/plain": [
       "                                                  text  label  \\\n",
       "467  As the 2000's came to a close, king Kong's ado...      0   \n",
       "895  \"If I sit down I will never stand up again\", t...      1   \n",
       "959  ...which isn't exactly a ringing endorsement. ...      0   \n",
       "958  Frank Sinatra was far from the ideal actor for...      0   \n",
       "114  Can any one help find out the title and artist...      1   \n",
       "..                                                 ...    ...   \n",
       "54   I was very interested to see this movie when i...      1   \n",
       "652  -The movie tells the tale of a prince whose li...      1   \n",
       "833  When a movie shocks you with it's disturbing, ...      1   \n",
       "394  I had the privilege of watching Scarface on th...      1   \n",
       "841  VIVAH in my opinion is the best movie of 2006,...      1   \n",
       "\n",
       "                                     preprocessed_text predicted_label  \\\n",
       "467  as the 2000s came to a close  king kongs adopt...             NEG   \n",
       "895   if i sit down i will never stand up again   t...             POS   \n",
       "959     which isnt exactly a ringing endorsement  o...             POS   \n",
       "958  frank sinatra was far from the ideal actor for...             NEG   \n",
       "114  can any one help find out the title and artist...             NEG   \n",
       "..                                                 ...             ...   \n",
       "54   i was very interested to see this movie when i...             POS   \n",
       "652   the movie tells the tale of a prince whose li...             POS   \n",
       "833  when a movie shocks you with its disturbing  b...             POS   \n",
       "394  i had the privilege of watching scarface on th...             POS   \n",
       "841  vivah in my opinion is the best movie of 2006 ...             POS   \n",
       "\n",
       "        score  \n",
       "467  0.522940  \n",
       "895  0.534601  \n",
       "959  0.539271  \n",
       "958  0.540881  \n",
       "114  0.544742  \n",
       "..        ...  \n",
       "54   0.990106  \n",
       "652  0.990273  \n",
       "833  0.990373  \n",
       "394  0.990460  \n",
       "841  0.990821  \n",
       "\n",
       "[1000 rows x 5 columns]"
      ]
     },
     "execution_count": 7,
     "metadata": {},
     "output_type": "execute_result"
    }
   ],
   "source": [
    "data.sort_values(by='score')"
   ]
  },
  {
   "cell_type": "code",
   "execution_count": 8,
   "metadata": {},
   "outputs": [],
   "source": [
    "# Mapping the POS/NEG labels into 1(POS) and 0 (NEG)\n",
    " \n",
    "data['predicted_label'] = data['predicted_label'].map({'POS': 1, 'NEG': 0})"
   ]
  },
  {
   "cell_type": "code",
   "execution_count": 18,
   "metadata": {},
   "outputs": [],
   "source": [
    "wrong_predictions = data[data['label'] != data['predicted_label']].sort_values(by='score')"
   ]
  },
  {
   "cell_type": "code",
   "execution_count": 19,
   "metadata": {},
   "outputs": [
    {
     "data": {
      "text/html": [
       "<div>\n",
       "<style scoped>\n",
       "    .dataframe tbody tr th:only-of-type {\n",
       "        vertical-align: middle;\n",
       "    }\n",
       "\n",
       "    .dataframe tbody tr th {\n",
       "        vertical-align: top;\n",
       "    }\n",
       "\n",
       "    .dataframe thead th {\n",
       "        text-align: right;\n",
       "    }\n",
       "</style>\n",
       "<table border=\"1\" class=\"dataframe\">\n",
       "  <thead>\n",
       "    <tr style=\"text-align: right;\">\n",
       "      <th></th>\n",
       "      <th>text</th>\n",
       "      <th>label</th>\n",
       "      <th>preprocessed_text</th>\n",
       "      <th>predicted_label</th>\n",
       "      <th>score</th>\n",
       "    </tr>\n",
       "  </thead>\n",
       "  <tbody>\n",
       "    <tr>\n",
       "      <th>959</th>\n",
       "      <td>...which isn't exactly a ringing endorsement. ...</td>\n",
       "      <td>0</td>\n",
       "      <td>which isnt exactly a ringing endorsement  o...</td>\n",
       "      <td>1</td>\n",
       "      <td>0.539271</td>\n",
       "    </tr>\n",
       "    <tr>\n",
       "      <th>114</th>\n",
       "      <td>Can any one help find out the title and artist...</td>\n",
       "      <td>1</td>\n",
       "      <td>can any one help find out the title and artist...</td>\n",
       "      <td>0</td>\n",
       "      <td>0.544742</td>\n",
       "    </tr>\n",
       "    <tr>\n",
       "      <th>868</th>\n",
       "      <td>...........as I was when I saw this movie) I w...</td>\n",
       "      <td>1</td>\n",
       "      <td>as i was when i saw this movie  i w...</td>\n",
       "      <td>0</td>\n",
       "      <td>0.546086</td>\n",
       "    </tr>\n",
       "    <tr>\n",
       "      <th>38</th>\n",
       "      <td>A lawyer is drawn into a deadly game of cat an...</td>\n",
       "      <td>1</td>\n",
       "      <td>a lawyer is drawn into a deadly game of cat an...</td>\n",
       "      <td>0</td>\n",
       "      <td>0.548404</td>\n",
       "    </tr>\n",
       "    <tr>\n",
       "      <th>168</th>\n",
       "      <td>Robert Colomb has two full-time jobs. He's kno...</td>\n",
       "      <td>0</td>\n",
       "      <td>robert colomb has two full time jobs  hes know...</td>\n",
       "      <td>1</td>\n",
       "      <td>0.568068</td>\n",
       "    </tr>\n",
       "    <tr>\n",
       "      <th>...</th>\n",
       "      <td>...</td>\n",
       "      <td>...</td>\n",
       "      <td>...</td>\n",
       "      <td>...</td>\n",
       "      <td>...</td>\n",
       "    </tr>\n",
       "    <tr>\n",
       "      <th>349</th>\n",
       "      <td>The volleyball genre is strangely overlooked b...</td>\n",
       "      <td>0</td>\n",
       "      <td>the volleyball genre is strangely overlooked b...</td>\n",
       "      <td>1</td>\n",
       "      <td>0.986082</td>\n",
       "    </tr>\n",
       "    <tr>\n",
       "      <th>505</th>\n",
       "      <td>I have only seen Gretchen Mol in two other fil...</td>\n",
       "      <td>0</td>\n",
       "      <td>i have only seen gretchen mol in two other fil...</td>\n",
       "      <td>1</td>\n",
       "      <td>0.986431</td>\n",
       "    </tr>\n",
       "    <tr>\n",
       "      <th>99</th>\n",
       "      <td>A charming boy and his mother move to a middle...</td>\n",
       "      <td>0</td>\n",
       "      <td>a charming boy and his mother move to a middle...</td>\n",
       "      <td>1</td>\n",
       "      <td>0.987245</td>\n",
       "    </tr>\n",
       "    <tr>\n",
       "      <th>404</th>\n",
       "      <td>Flame in, flame out. That seems to be Gammera ...</td>\n",
       "      <td>0</td>\n",
       "      <td>flame in  flame out  that seems to be gammera ...</td>\n",
       "      <td>1</td>\n",
       "      <td>0.987716</td>\n",
       "    </tr>\n",
       "    <tr>\n",
       "      <th>651</th>\n",
       "      <td>I was unsure whether or not Andy Sidaris could...</td>\n",
       "      <td>0</td>\n",
       "      <td>i was unsure whether or not andy sidaris could...</td>\n",
       "      <td>1</td>\n",
       "      <td>0.988977</td>\n",
       "    </tr>\n",
       "  </tbody>\n",
       "</table>\n",
       "<p>61 rows × 5 columns</p>\n",
       "</div>"
      ],
      "text/plain": [
       "                                                  text  label  \\\n",
       "959  ...which isn't exactly a ringing endorsement. ...      0   \n",
       "114  Can any one help find out the title and artist...      1   \n",
       "868  ...........as I was when I saw this movie) I w...      1   \n",
       "38   A lawyer is drawn into a deadly game of cat an...      1   \n",
       "168  Robert Colomb has two full-time jobs. He's kno...      0   \n",
       "..                                                 ...    ...   \n",
       "349  The volleyball genre is strangely overlooked b...      0   \n",
       "505  I have only seen Gretchen Mol in two other fil...      0   \n",
       "99   A charming boy and his mother move to a middle...      0   \n",
       "404  Flame in, flame out. That seems to be Gammera ...      0   \n",
       "651  I was unsure whether or not Andy Sidaris could...      0   \n",
       "\n",
       "                                     preprocessed_text  predicted_label  \\\n",
       "959     which isnt exactly a ringing endorsement  o...                1   \n",
       "114  can any one help find out the title and artist...                0   \n",
       "868             as i was when i saw this movie  i w...                0   \n",
       "38   a lawyer is drawn into a deadly game of cat an...                0   \n",
       "168  robert colomb has two full time jobs  hes know...                1   \n",
       "..                                                 ...              ...   \n",
       "349  the volleyball genre is strangely overlooked b...                1   \n",
       "505  i have only seen gretchen mol in two other fil...                1   \n",
       "99   a charming boy and his mother move to a middle...                1   \n",
       "404  flame in  flame out  that seems to be gammera ...                1   \n",
       "651  i was unsure whether or not andy sidaris could...                1   \n",
       "\n",
       "        score  \n",
       "959  0.539271  \n",
       "114  0.544742  \n",
       "868  0.546086  \n",
       "38   0.548404  \n",
       "168  0.568068  \n",
       "..        ...  \n",
       "349  0.986082  \n",
       "505  0.986431  \n",
       "99   0.987245  \n",
       "404  0.987716  \n",
       "651  0.988977  \n",
       "\n",
       "[61 rows x 5 columns]"
      ]
     },
     "execution_count": 19,
     "metadata": {},
     "output_type": "execute_result"
    }
   ],
   "source": [
    "wrong_predictions"
   ]
  },
  {
   "cell_type": "code",
   "execution_count": 28,
   "metadata": {},
   "outputs": [
    {
     "data": {
      "text/plain": [
       "'   which isnt exactly a ringing endorsement  overall   dinocroc  was a much better movie  sure  in that movie matt borlenghi played a complete wuss bag who spent the entire movie crying about his little brother getting eaten by the dinocroc  but the special effects in  dinocroc  were better  the plot lines were better  and the acting was better  here are the problems with  blood surf     1  the killer crocodile looks like a kids model with a retractable jaw  2  the plot is ridiculous  matt borlenghi   co  get shipwrecked on a deserted island  in which they encounter a rabid group of ugly filipino natives who try to force themselves upon the women in the group  which was a complete waste of 15 minutes of film  and 3  theres not enough croc time  there are a couple of redeeming qualities of  blood surf     the actresses are pretty attractive and matt borlenghi gets eaten by the croc towards the end of the movie  but if youre on your deathbed and only have enough time to watch one matt borlenghi killer crocodile movie  skip this one and fire up  dinocroc  instead '"
      ]
     },
     "execution_count": 28,
     "metadata": {},
     "output_type": "execute_result"
    }
   ],
   "source": [
    "# Inspecting the mismatched prediction with the worst accuracy \n",
    "\n",
    "wrong_predictions.iloc[0,2]"
   ]
  },
  {
   "cell_type": "markdown",
   "metadata": {},
   "source": [
    "Upon inspection, the incorrect prediction with the worst accuracy score seems to be comparing the reviewed movie `Blood Surf` with another movie `Dinocroc`. The reviewer praises `Dinocroc` as the better of the two, but since the data does not have the labels of the reviewed movie, the model is not able to distinguish that the positive sentiments are for a different movie."
   ]
  },
  {
   "cell_type": "code",
   "execution_count": 11,
   "metadata": {},
   "outputs": [],
   "source": [
    "from sklearn.metrics import confusion_matrix, ConfusionMatrixDisplay, classification_report \n",
    "\n",
    "import matplotlib.pyplot as plt"
   ]
  },
  {
   "cell_type": "code",
   "execution_count": 12,
   "metadata": {},
   "outputs": [],
   "source": [
    "cm = confusion_matrix(data['label'], data['predicted_label'])"
   ]
  },
  {
   "cell_type": "code",
   "execution_count": 13,
   "metadata": {},
   "outputs": [
    {
     "data": {
      "image/png": "[encoded data removed]",
      "text/plain": [
       "<Figure size 640x480 with 2 Axes>"
      ]
     },
     "metadata": {},
     "output_type": "display_data"
    }
   ],
   "source": [
    "disp = ConfusionMatrixDisplay(confusion_matrix=cm, display_labels=['NEG', 'POS'])\n",
    "disp.plot()\n",
    "plt.show()"
   ]
  },
  {
   "cell_type": "code",
   "execution_count": 14,
   "metadata": {},
   "outputs": [
    {
     "name": "stdout",
     "output_type": "stream",
     "text": [
      "              precision    recall  f1-score   support\n",
      "\n",
      "    Negative       0.94      0.93      0.94       479\n",
      "    Positive       0.94      0.94      0.94       521\n",
      "\n",
      "    accuracy                           0.94      1000\n",
      "   macro avg       0.94      0.94      0.94      1000\n",
      "weighted avg       0.94      0.94      0.94      1000\n",
      "\n"
     ]
    }
   ],
   "source": [
    "print(classification_report(data['label'], data['predicted_label'], target_names=['Negative', 'Positive']))"
   ]
  },
  {
   "cell_type": "markdown",
   "metadata": {},
   "source": [
    "Compared to the baseline LogReg model, the pretrained model has higher values all across the board. "
   ]
  }
 ],
 "metadata": {
  "kernelspec": {
   "display_name": "lhl_env",
   "language": "python",
   "name": "lhl_env"
  },
  "language_info": {
   "codemirror_mode": {
    "name": "ipython",
    "version": 3
   },
   "file_extension": ".py",
   "mimetype": "text/x-python",
   "name": "python",
   "nbconvert_exporter": "python",
   "pygments_lexer": "ipython3",
   "version": "3.9.21"
  }
 },
 "nbformat": 4,
 "nbformat_minor": 4
}
