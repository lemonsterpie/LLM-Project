{
 "cells": [
  {
   "cell_type": "code",
   "execution_count": 2,
   "metadata": {},
   "outputs": [],
   "source": [
    "from transformers import AutoTokenizer, AutoModelForSequenceClassification, TrainingArguments, Trainer, DataCollatorWithPadding, pipeline  \n",
    "from sklearn.model_selection import train_test_split\n",
    "from sklearn.metrics import accuracy_score, precision_recall_fscore_support, roc_auc_score\n",
    "from datasets import Dataset \n",
    "import pandas as pd\n",
    "import numpy as np\n",
    "import torch\n",
    "import evaluate \n",
    "import os "
   ]
  },
  {
   "cell_type": "code",
   "execution_count": 3,
   "metadata": {},
   "outputs": [
    {
     "data": {
      "application/vnd.jupyter.widget-view+json": {
       "model_id": "5aab2cdad03d42c5af0a13a14a4d7bef",
       "version_major": 2,
       "version_minor": 0
      },
      "text/plain": [
       "VBox(children=(HTML(value='<center> <img\\nsrc=https://huggingface.co/front/assets/huggingface_logo-noborder.sv…"
      ]
     },
     "metadata": {},
     "output_type": "display_data"
    }
   ],
   "source": [
    "from huggingface_hub import notebook_login\n",
    "notebook_login()"
   ]
  },
  {
   "cell_type": "code",
   "execution_count": 5,
   "metadata": {},
   "outputs": [],
   "source": [
    "current_dir = os.getcwd()\n",
    "main_dir = os.path.abspath(os.path.join(current_dir, '..'))\n",
    "models_dir = os.path.abspath(os.path.join(main_dir, 'models')) \n",
    "ft_model = os.path.abspath(os.path.join(models_dir, 'finetuned_model'))\n",
    "output_dir = os.path.abspath(os.path.join(models_dir, 'finetuned-model-movie-review-sentiment-analysis'))\n",
    "os.makedirs(output_dir, exist_ok=True)"
   ]
  },
  {
   "cell_type": "code",
   "execution_count": 6,
   "metadata": {},
   "outputs": [],
   "source": [
    "model = AutoModelForSequenceClassification.from_pretrained(ft_model)\n",
    "tokenizer = AutoTokenizer.from_pretrained(ft_model)\n",
    "data_collator = DataCollatorWithPadding(tokenizer=tokenizer)"
   ]
  },
  {
   "cell_type": "code",
   "execution_count": 7,
   "metadata": {},
   "outputs": [],
   "source": [
    "data = pd.read_csv('../data/data_preprocessed.csv')\n",
    "dataset = Dataset.from_pandas(data)"
   ]
  },
  {
   "cell_type": "code",
   "execution_count": 8,
   "metadata": {},
   "outputs": [],
   "source": [
    "def tokenize_function(examples):\n",
    "    return tokenizer(examples['text'], padding='max_length', truncation=True)"
   ]
  },
  {
   "cell_type": "code",
   "execution_count": 9,
   "metadata": {},
   "outputs": [
    {
     "data": {
      "application/vnd.jupyter.widget-view+json": {
       "model_id": "af5fe82387c04b0cb3378100a0f3b3bd",
       "version_major": 2,
       "version_minor": 0
      },
      "text/plain": [
       "Map:   0%|          | 0/1000 [00:00<?, ? examples/s]"
      ]
     },
     "metadata": {},
     "output_type": "display_data"
    },
    {
     "name": "stderr",
     "output_type": "stream",
     "text": [
      "Asking to pad to max_length but no maximum length is provided and the model has no predefined maximum length. Default to no padding.\n",
      "Asking to truncate to max_length but no maximum length is provided and the model has no predefined maximum length. Default to no truncation.\n"
     ]
    }
   ],
   "source": [
    "tokenized_ds = dataset.map(tokenize_function, batched=True)\n",
    "tokenized_ds = tokenized_ds.train_test_split(test_size=0.2)\n",
    "\n",
    "small_train = tokenized_ds['train'].shuffle(seed=13).select(range(200))\n",
    "small_test = tokenized_ds['test'].shuffle(seed=13).select(range(200))"
   ]
  },
  {
   "cell_type": "code",
   "execution_count": 10,
   "metadata": {},
   "outputs": [],
   "source": [
    "training_args = TrainingArguments(\n",
    "    output_dir=output_dir,\n",
    "    save_strategy='epoch',\n",
    "    eval_strategy='epoch',\n",
    "    num_train_epochs=1,\n",
    "    learning_rate=3.2306249035382145e-05, # best parameters from optimization \n",
    "    per_device_train_batch_size=2,\n",
    "    per_device_eval_batch_size=2,\n",
    "    push_to_hub=True,\n",
    "    hub_strategy='end'\n",
    ")"
   ]
  },
  {
   "cell_type": "code",
   "execution_count": 11,
   "metadata": {},
   "outputs": [],
   "source": [
    "def compute_metrics(eval_pred):\n",
    "    logits, labels = eval_pred \n",
    "    predictions = np.argmax(logits, axis=-1)\n",
    "    \n",
    "    # Evaluation metrics for classification\n",
    "    precision, recall, f1, _ = precision_recall_fscore_support(labels, predictions, average=None)\n",
    "    acc = accuracy_score(labels, predictions)\n",
    "    auc = roc_auc_score(labels, logits[:, 1])\n",
    "\n",
    "    return {\n",
    "       \"accuracy\": float(acc),\n",
    "        \"f1\": f1.tolist(),       \n",
    "        \"precision\": precision.tolist(),\n",
    "        \"recall\": recall.tolist(),\n",
    "        \"auc\": auc.tolist()\n",
    "        }"
   ]
  },
  {
   "cell_type": "code",
   "execution_count": 12,
   "metadata": {},
   "outputs": [],
   "source": [
    "trainer = Trainer(\n",
    "    model=model,\n",
    "    args=training_args,\n",
    "    train_dataset=small_train,\n",
    "    eval_dataset=small_test,\n",
    "    data_collator=data_collator,\n",
    "    compute_metrics=compute_metrics,\n",
    ") "
   ]
  },
  {
   "cell_type": "code",
   "execution_count": 13,
   "metadata": {},
   "outputs": [
    {
     "name": "stderr",
     "output_type": "stream",
     "text": [
      "C:\\Users\\sherr\\anaconda3\\envs\\lhl_env\\lib\\site-packages\\torch\\utils\\data\\dataloader.py:665: UserWarning: 'pin_memory' argument is set as true but no accelerator is found, then device pinned memory won't be used.\n",
      "  warnings.warn(warn_msg)\n"
     ]
    },
    {
     "data": {
      "text/html": [
       "\n",
       "    <div>\n",
       "      \n",
       "      <progress value='100' max='100' style='width:300px; height:20px; vertical-align: middle;'></progress>\n",
       "      [100/100 14:54, Epoch 1/1]\n",
       "    </div>\n",
       "    <table border=\"1\" class=\"dataframe\">\n",
       "  <thead>\n",
       " <tr style=\"text-align: left;\">\n",
       "      <th>Epoch</th>\n",
       "      <th>Training Loss</th>\n",
       "      <th>Validation Loss</th>\n",
       "      <th>Accuracy</th>\n",
       "      <th>F1</th>\n",
       "      <th>Precision</th>\n",
       "      <th>Recall</th>\n",
       "      <th>Auc</th>\n",
       "    </tr>\n",
       "  </thead>\n",
       "  <tbody>\n",
       "    <tr>\n",
       "      <td>1</td>\n",
       "      <td>No log</td>\n",
       "      <td>0.317774</td>\n",
       "      <td>0.925000</td>\n",
       "      <td>[0.9101796407185628, 0.9356223175965666]</td>\n",
       "      <td>[1.0, 0.8790322580645161]</td>\n",
       "      <td>[0.8351648351648352, 1.0]</td>\n",
       "      <td>0.977014</td>\n",
       "    </tr>\n",
       "  </tbody>\n",
       "</table><p>"
      ],
      "text/plain": [
       "<IPython.core.display.HTML object>"
      ]
     },
     "metadata": {},
     "output_type": "display_data"
    },
    {
     "name": "stderr",
     "output_type": "stream",
     "text": [
      "C:\\Users\\sherr\\anaconda3\\envs\\lhl_env\\lib\\site-packages\\transformers\\configuration_utils.py:393: UserWarning: Some non-default generation parameters are set in the model config. These should go into either a) `model.generation_config` (as opposed to `model.config`); OR b) a GenerationConfig file (https://huggingface.co/docs/transformers/generation_strategies#save-a-custom-decoding-strategy-with-your-model).This warning will become an exception in the future.\n",
      "Non-default generation parameters: {'max_length': 512}\n",
      "  warnings.warn(\n"
     ]
    },
    {
     "data": {
      "text/plain": [
       "TrainOutput(global_step=100, training_loss=0.3897837066650391, metrics={'train_runtime': 903.2793, 'train_samples_per_second': 0.221, 'train_steps_per_second': 0.111, 'total_flos': 43167431664000.0, 'train_loss': 0.3897837066650391, 'epoch': 1.0})"
      ]
     },
     "execution_count": 13,
     "metadata": {},
     "output_type": "execute_result"
    }
   ],
   "source": [
    "trainer.train()"
   ]
  },
  {
   "cell_type": "code",
   "execution_count": 14,
   "metadata": {},
   "outputs": [
    {
     "name": "stderr",
     "output_type": "stream",
     "text": [
      "C:\\Users\\sherr\\anaconda3\\envs\\lhl_env\\lib\\site-packages\\torch\\utils\\data\\dataloader.py:665: UserWarning: 'pin_memory' argument is set as true but no accelerator is found, then device pinned memory won't be used.\n",
      "  warnings.warn(warn_msg)\n"
     ]
    },
    {
     "data": {
      "text/html": [
       "\n",
       "    <div>\n",
       "      \n",
       "      <progress value='100' max='100' style='width:300px; height:20px; vertical-align: middle;'></progress>\n",
       "      [100/100 03:07]\n",
       "    </div>\n",
       "    "
      ],
      "text/plain": [
       "<IPython.core.display.HTML object>"
      ]
     },
     "metadata": {},
     "output_type": "display_data"
    },
    {
     "data": {
      "text/plain": [
       "{'eval_loss': 0.31777361035346985,\n",
       " 'eval_accuracy': 0.925,\n",
       " 'eval_f1': [0.9101796407185628, 0.9356223175965666],\n",
       " 'eval_precision': [1.0, 0.8790322580645161],\n",
       " 'eval_recall': [0.8351648351648352, 1.0],\n",
       " 'eval_auc': 0.9770138118761972,\n",
       " 'eval_runtime': 189.0869,\n",
       " 'eval_samples_per_second': 1.058,\n",
       " 'eval_steps_per_second': 0.529,\n",
       " 'epoch': 1.0}"
      ]
     },
     "execution_count": 14,
     "metadata": {},
     "output_type": "execute_result"
    }
   ],
   "source": [
    "trainer.evaluate()"
   ]
  },
  {
   "cell_type": "code",
   "execution_count": 15,
   "metadata": {},
   "outputs": [
    {
     "name": "stderr",
     "output_type": "stream",
     "text": [
      "C:\\Users\\sherr\\anaconda3\\envs\\lhl_env\\lib\\site-packages\\transformers\\configuration_utils.py:393: UserWarning: Some non-default generation parameters are set in the model config. These should go into either a) `model.generation_config` (as opposed to `model.config`); OR b) a GenerationConfig file (https://huggingface.co/docs/transformers/generation_strategies#save-a-custom-decoding-strategy-with-your-model).This warning will become an exception in the future.\n",
      "Non-default generation parameters: {'max_length': 512}\n",
      "  warnings.warn(\n"
     ]
    },
    {
     "data": {
      "application/vnd.jupyter.widget-view+json": {
       "model_id": "574704ca7aa3463eae3dfacde4bc83ba",
       "version_major": 2,
       "version_minor": 0
      },
      "text/plain": [
       "model.safetensors:   0%|          | 0.00/738M [00:00<?, ?B/s]"
      ]
     },
     "metadata": {},
     "output_type": "display_data"
    },
    {
     "data": {
      "application/vnd.jupyter.widget-view+json": {
       "model_id": "c15186251ec04a9a8f60e7cb283c41d2",
       "version_major": 2,
       "version_minor": 0
      },
      "text/plain": [
       "Upload 2 LFS files:   0%|          | 0/2 [00:00<?, ?it/s]"
      ]
     },
     "metadata": {},
     "output_type": "display_data"
    },
    {
     "data": {
      "application/vnd.jupyter.widget-view+json": {
       "model_id": "ab4b40d8b80f4ddd82f2a9d4c88db2d9",
       "version_major": 2,
       "version_minor": 0
      },
      "text/plain": [
       "training_args.bin:   0%|          | 0.00/5.84k [00:00<?, ?B/s]"
      ]
     },
     "metadata": {},
     "output_type": "display_data"
    },
    {
     "data": {
      "text/plain": [
       "CommitInfo(commit_url='https://huggingface.co/lemonsterpie/finetuned-model-movie-review-sentiment-analysis/commit/a43302ac129c7f43e7b01f424bd56e7468c7d775', commit_message='End of training', commit_description='', oid='a43302ac129c7f43e7b01f424bd56e7468c7d775', pr_url=None, repo_url=RepoUrl('https://huggingface.co/lemonsterpie/finetuned-model-movie-review-sentiment-analysis', endpoint='https://huggingface.co', repo_type='model', repo_id='lemonsterpie/finetuned-model-movie-review-sentiment-analysis'), pr_revision=None, pr_num=None)"
      ]
     },
     "execution_count": 15,
     "metadata": {},
     "output_type": "execute_result"
    }
   ],
   "source": [
    "trainer.push_to_hub()"
   ]
  },
  {
   "cell_type": "code",
   "execution_count": 16,
   "metadata": {},
   "outputs": [],
   "source": [
    "# Testing my model \n",
    "\n",
    "tester = pd.read_csv('../data/tester_data.csv') # Preprocessed data from step 1 \n",
    "test1 = tester.head(10).copy() \n",
    "test1_list = test1['preprocessed_text'].tolist()"
   ]
  },
  {
   "cell_type": "code",
   "execution_count": 17,
   "metadata": {},
   "outputs": [
    {
     "data": {
      "application/vnd.jupyter.widget-view+json": {
       "model_id": "4b45b19d1c1f4f0c8bfda65918177bb5",
       "version_major": 2,
       "version_minor": 0
      },
      "text/plain": [
       "model.safetensors:   0%|          | 0.00/738M [00:00<?, ?B/s]"
      ]
     },
     "metadata": {},
     "output_type": "display_data"
    },
    {
     "name": "stderr",
     "output_type": "stream",
     "text": [
      "Device set to use cpu\n"
     ]
    }
   ],
   "source": [
    "my_model = pipeline('text-classification', model='lemonsterpie/finetuned-model-movie-review-sentiment-analysis')\n",
    "test1_predictions = my_model(test1_list)"
   ]
  },
  {
   "cell_type": "code",
   "execution_count": 18,
   "metadata": {},
   "outputs": [],
   "source": [
    "test1.loc[:, \"predicted_label\"] = [p[\"label\"] for p in test1_predictions]\n",
    "test1.loc[:, \"confidence_score\"] = [p[\"score\"] for p in test1_predictions]\n",
    "test1['predicted_label'] = test1['predicted_label'].map({'POS': 1, 'NEG': 0})"
   ]
  },
  {
   "cell_type": "code",
   "execution_count": 19,
   "metadata": {},
   "outputs": [
    {
     "data": {
      "text/html": [
       "<div>\n",
       "<style scoped>\n",
       "    .dataframe tbody tr th:only-of-type {\n",
       "        vertical-align: middle;\n",
       "    }\n",
       "\n",
       "    .dataframe tbody tr th {\n",
       "        vertical-align: top;\n",
       "    }\n",
       "\n",
       "    .dataframe thead th {\n",
       "        text-align: right;\n",
       "    }\n",
       "</style>\n",
       "<table border=\"1\" class=\"dataframe\">\n",
       "  <thead>\n",
       "    <tr style=\"text-align: right;\">\n",
       "      <th></th>\n",
       "      <th>text</th>\n",
       "      <th>label</th>\n",
       "      <th>preprocessed_text</th>\n",
       "      <th>predicted_label</th>\n",
       "      <th>confidence_score</th>\n",
       "    </tr>\n",
       "  </thead>\n",
       "  <tbody>\n",
       "    <tr>\n",
       "      <th>0</th>\n",
       "      <td>I love sci-fi and am willing to put up with a ...</td>\n",
       "      <td>0</td>\n",
       "      <td>i love sci fi and am willing to put up with a ...</td>\n",
       "      <td>0</td>\n",
       "      <td>0.999808</td>\n",
       "    </tr>\n",
       "    <tr>\n",
       "      <th>1</th>\n",
       "      <td>Worth the entertainment value of a rental, esp...</td>\n",
       "      <td>0</td>\n",
       "      <td>worth the entertainment value of a rental  esp...</td>\n",
       "      <td>0</td>\n",
       "      <td>0.999215</td>\n",
       "    </tr>\n",
       "    <tr>\n",
       "      <th>2</th>\n",
       "      <td>its a totally average film with a few semi-alr...</td>\n",
       "      <td>0</td>\n",
       "      <td>its a totally average film with a few semi alr...</td>\n",
       "      <td>0</td>\n",
       "      <td>0.999812</td>\n",
       "    </tr>\n",
       "    <tr>\n",
       "      <th>3</th>\n",
       "      <td>STAR RATING: ***** Saturday Night **** Friday ...</td>\n",
       "      <td>0</td>\n",
       "      <td>star rating        saturday night      friday ...</td>\n",
       "      <td>0</td>\n",
       "      <td>0.999818</td>\n",
       "    </tr>\n",
       "    <tr>\n",
       "      <th>4</th>\n",
       "      <td>First off let me say, If you haven't enjoyed a...</td>\n",
       "      <td>0</td>\n",
       "      <td>first off let me say  if you havent enjoyed a ...</td>\n",
       "      <td>1</td>\n",
       "      <td>0.999435</td>\n",
       "    </tr>\n",
       "    <tr>\n",
       "      <th>5</th>\n",
       "      <td>I had high hopes for this one until they chang...</td>\n",
       "      <td>0</td>\n",
       "      <td>i had high hopes for this one until they chang...</td>\n",
       "      <td>0</td>\n",
       "      <td>0.999826</td>\n",
       "    </tr>\n",
       "    <tr>\n",
       "      <th>6</th>\n",
       "      <td>Isaac Florentine has made some of the best wes...</td>\n",
       "      <td>0</td>\n",
       "      <td>isaac florentine has made some of the best wes...</td>\n",
       "      <td>1</td>\n",
       "      <td>0.960503</td>\n",
       "    </tr>\n",
       "    <tr>\n",
       "      <th>7</th>\n",
       "      <td>It actually pains me to say it, but this movie...</td>\n",
       "      <td>0</td>\n",
       "      <td>it actually pains me to say it  but this movie...</td>\n",
       "      <td>0</td>\n",
       "      <td>0.999758</td>\n",
       "    </tr>\n",
       "    <tr>\n",
       "      <th>8</th>\n",
       "      <td>Technically I'am a Van Damme Fan, or I was. th...</td>\n",
       "      <td>0</td>\n",
       "      <td>technically iam a van damme fan  or i was  thi...</td>\n",
       "      <td>0</td>\n",
       "      <td>0.999834</td>\n",
       "    </tr>\n",
       "    <tr>\n",
       "      <th>9</th>\n",
       "      <td>Honestly awful film, bad editing, awful lighti...</td>\n",
       "      <td>0</td>\n",
       "      <td>honestly awful film  bad editing  awful lighti...</td>\n",
       "      <td>0</td>\n",
       "      <td>0.999762</td>\n",
       "    </tr>\n",
       "  </tbody>\n",
       "</table>\n",
       "</div>"
      ],
      "text/plain": [
       "                                                text  label  \\\n",
       "0  I love sci-fi and am willing to put up with a ...      0   \n",
       "1  Worth the entertainment value of a rental, esp...      0   \n",
       "2  its a totally average film with a few semi-alr...      0   \n",
       "3  STAR RATING: ***** Saturday Night **** Friday ...      0   \n",
       "4  First off let me say, If you haven't enjoyed a...      0   \n",
       "5  I had high hopes for this one until they chang...      0   \n",
       "6  Isaac Florentine has made some of the best wes...      0   \n",
       "7  It actually pains me to say it, but this movie...      0   \n",
       "8  Technically I'am a Van Damme Fan, or I was. th...      0   \n",
       "9  Honestly awful film, bad editing, awful lighti...      0   \n",
       "\n",
       "                                   preprocessed_text  predicted_label  \\\n",
       "0  i love sci fi and am willing to put up with a ...                0   \n",
       "1  worth the entertainment value of a rental  esp...                0   \n",
       "2  its a totally average film with a few semi alr...                0   \n",
       "3  star rating        saturday night      friday ...                0   \n",
       "4  first off let me say  if you havent enjoyed a ...                1   \n",
       "5  i had high hopes for this one until they chang...                0   \n",
       "6  isaac florentine has made some of the best wes...                1   \n",
       "7  it actually pains me to say it  but this movie...                0   \n",
       "8  technically iam a van damme fan  or i was  thi...                0   \n",
       "9  honestly awful film  bad editing  awful lighti...                0   \n",
       "\n",
       "   confidence_score  \n",
       "0          0.999808  \n",
       "1          0.999215  \n",
       "2          0.999812  \n",
       "3          0.999818  \n",
       "4          0.999435  \n",
       "5          0.999826  \n",
       "6          0.960503  \n",
       "7          0.999758  \n",
       "8          0.999834  \n",
       "9          0.999762  "
      ]
     },
     "execution_count": 19,
     "metadata": {},
     "output_type": "execute_result"
    }
   ],
   "source": [
    "test1"
   ]
  },
  {
   "cell_type": "code",
   "execution_count": 20,
   "metadata": {},
   "outputs": [
    {
     "data": {
      "text/plain": [
       "'first off let me say  if you havent enjoyed a van damme movie since bloodsport  you probably will not like this movie  most of these movies may not have the best plots or best actors but i enjoy these kinds of movies for what they are  this movie is much better than any of the movies the other action guys  segal and dolph  have thought about putting out the past few years  van damme is good in the movie  the movie is only worth watching to van damme fans  it is not as good as wake of death  which i highly recommend to anyone of likes van damme  or in hell but  in my opinion its worth watching  it has the same type of feel to it as nowhere to run  good fun stuff '"
      ]
     },
     "execution_count": 20,
     "metadata": {},
     "output_type": "execute_result"
    }
   ],
   "source": [
    "# Inspecting the mismatched prediction \n",
    "\n",
    "mismatch1 = test1[test1['label'] != test1['predicted_label']]\n",
    "mismatch1.iloc[0,2]"
   ]
  },
  {
   "cell_type": "code",
   "execution_count": 21,
   "metadata": {},
   "outputs": [],
   "source": [
    "# Testing another batch \n",
    "\n",
    "test2 = tester.tail(10).copy()\n",
    "test2_list = test2['preprocessed_text'].tolist()\n",
    "test2_predictions = my_model(test2_list)"
   ]
  },
  {
   "cell_type": "code",
   "execution_count": 22,
   "metadata": {},
   "outputs": [],
   "source": [
    "test2.loc[:, \"predicted_label\"] = [p[\"label\"] for p in test2_predictions]\n",
    "test2.loc[:, \"confidence_score\"] = [p[\"score\"] for p in test2_predictions]\n",
    "test2['predicted_label'] = test2['predicted_label'].map({'POS': 1, 'NEG': 0})"
   ]
  },
  {
   "cell_type": "code",
   "execution_count": 23,
   "metadata": {},
   "outputs": [
    {
     "data": {
      "text/html": [
       "<div>\n",
       "<style scoped>\n",
       "    .dataframe tbody tr th:only-of-type {\n",
       "        vertical-align: middle;\n",
       "    }\n",
       "\n",
       "    .dataframe tbody tr th {\n",
       "        vertical-align: top;\n",
       "    }\n",
       "\n",
       "    .dataframe thead th {\n",
       "        text-align: right;\n",
       "    }\n",
       "</style>\n",
       "<table border=\"1\" class=\"dataframe\">\n",
       "  <thead>\n",
       "    <tr style=\"text-align: right;\">\n",
       "      <th></th>\n",
       "      <th>text</th>\n",
       "      <th>label</th>\n",
       "      <th>preprocessed_text</th>\n",
       "      <th>predicted_label</th>\n",
       "      <th>confidence_score</th>\n",
       "    </tr>\n",
       "  </thead>\n",
       "  <tbody>\n",
       "    <tr>\n",
       "      <th>24990</th>\n",
       "      <td>I first saw this on Demand. Or on TV. I'm not ...</td>\n",
       "      <td>1</td>\n",
       "      <td>i first saw this on demand  or on tv  im not r...</td>\n",
       "      <td>1</td>\n",
       "      <td>0.999570</td>\n",
       "    </tr>\n",
       "    <tr>\n",
       "      <th>24991</th>\n",
       "      <td>In the veins of Jeepers Creepers and The Texas...</td>\n",
       "      <td>1</td>\n",
       "      <td>in the veins of jeepers creepers and the texas...</td>\n",
       "      <td>1</td>\n",
       "      <td>0.998655</td>\n",
       "    </tr>\n",
       "    <tr>\n",
       "      <th>24992</th>\n",
       "      <td>Great horror comedy from Michael Davis.Iwas la...</td>\n",
       "      <td>1</td>\n",
       "      <td>great horror comedy from michael davis iwas la...</td>\n",
       "      <td>1</td>\n",
       "      <td>0.999616</td>\n",
       "    </tr>\n",
       "    <tr>\n",
       "      <th>24993</th>\n",
       "      <td>Two city guys are driving through Hicksville U...</td>\n",
       "      <td>1</td>\n",
       "      <td>two city guys are driving through hicksville u...</td>\n",
       "      <td>1</td>\n",
       "      <td>0.997382</td>\n",
       "    </tr>\n",
       "    <tr>\n",
       "      <th>24994</th>\n",
       "      <td>This is a surprisingly great low budget Horror...</td>\n",
       "      <td>1</td>\n",
       "      <td>this is a surprisingly great low budget horror...</td>\n",
       "      <td>1</td>\n",
       "      <td>0.999611</td>\n",
       "    </tr>\n",
       "    <tr>\n",
       "      <th>24995</th>\n",
       "      <td>Just got around to seeing Monster Man yesterda...</td>\n",
       "      <td>1</td>\n",
       "      <td>just got around to seeing monster man yesterda...</td>\n",
       "      <td>1</td>\n",
       "      <td>0.999445</td>\n",
       "    </tr>\n",
       "    <tr>\n",
       "      <th>24996</th>\n",
       "      <td>I got this as part of a competition prize. I w...</td>\n",
       "      <td>1</td>\n",
       "      <td>i got this as part of a competition prize  i w...</td>\n",
       "      <td>1</td>\n",
       "      <td>0.999109</td>\n",
       "    </tr>\n",
       "    <tr>\n",
       "      <th>24997</th>\n",
       "      <td>I got Monster Man in a box set of three films ...</td>\n",
       "      <td>1</td>\n",
       "      <td>i got monster man in a box set of three films ...</td>\n",
       "      <td>1</td>\n",
       "      <td>0.999265</td>\n",
       "    </tr>\n",
       "    <tr>\n",
       "      <th>24998</th>\n",
       "      <td>Five minutes in, i started to feel how naff th...</td>\n",
       "      <td>1</td>\n",
       "      <td>five minutes in  i started to feel how naff th...</td>\n",
       "      <td>1</td>\n",
       "      <td>0.999050</td>\n",
       "    </tr>\n",
       "    <tr>\n",
       "      <th>24999</th>\n",
       "      <td>I caught this movie on the Sci-Fi channel rece...</td>\n",
       "      <td>1</td>\n",
       "      <td>i caught this movie on the sci fi channel rece...</td>\n",
       "      <td>1</td>\n",
       "      <td>0.998580</td>\n",
       "    </tr>\n",
       "  </tbody>\n",
       "</table>\n",
       "</div>"
      ],
      "text/plain": [
       "                                                    text  label  \\\n",
       "24990  I first saw this on Demand. Or on TV. I'm not ...      1   \n",
       "24991  In the veins of Jeepers Creepers and The Texas...      1   \n",
       "24992  Great horror comedy from Michael Davis.Iwas la...      1   \n",
       "24993  Two city guys are driving through Hicksville U...      1   \n",
       "24994  This is a surprisingly great low budget Horror...      1   \n",
       "24995  Just got around to seeing Monster Man yesterda...      1   \n",
       "24996  I got this as part of a competition prize. I w...      1   \n",
       "24997  I got Monster Man in a box set of three films ...      1   \n",
       "24998  Five minutes in, i started to feel how naff th...      1   \n",
       "24999  I caught this movie on the Sci-Fi channel rece...      1   \n",
       "\n",
       "                                       preprocessed_text  predicted_label  \\\n",
       "24990  i first saw this on demand  or on tv  im not r...                1   \n",
       "24991  in the veins of jeepers creepers and the texas...                1   \n",
       "24992  great horror comedy from michael davis iwas la...                1   \n",
       "24993  two city guys are driving through hicksville u...                1   \n",
       "24994  this is a surprisingly great low budget horror...                1   \n",
       "24995  just got around to seeing monster man yesterda...                1   \n",
       "24996  i got this as part of a competition prize  i w...                1   \n",
       "24997  i got monster man in a box set of three films ...                1   \n",
       "24998  five minutes in  i started to feel how naff th...                1   \n",
       "24999  i caught this movie on the sci fi channel rece...                1   \n",
       "\n",
       "       confidence_score  \n",
       "24990          0.999570  \n",
       "24991          0.998655  \n",
       "24992          0.999616  \n",
       "24993          0.997382  \n",
       "24994          0.999611  \n",
       "24995          0.999445  \n",
       "24996          0.999109  \n",
       "24997          0.999265  \n",
       "24998          0.999050  \n",
       "24999          0.998580  "
      ]
     },
     "execution_count": 23,
     "metadata": {},
     "output_type": "execute_result"
    }
   ],
   "source": [
    "test2"
   ]
  },
  {
   "cell_type": "markdown",
   "metadata": {},
   "source": [
    "No mismatches for test 2! "
   ]
  }
 ],
 "metadata": {
  "kernelspec": {
   "display_name": "lhl_env",
   "language": "python",
   "name": "lhl_env"
  },
  "language_info": {
   "codemirror_mode": {
    "name": "ipython",
    "version": 3
   },
   "file_extension": ".py",
   "mimetype": "text/x-python",
   "name": "python",
   "nbconvert_exporter": "python",
   "pygments_lexer": "ipython3",
   "version": "3.9.21"
  }
 },
 "nbformat": 4,
 "nbformat_minor": 4
}
